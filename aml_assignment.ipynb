{
  "cells": [
    {
      "cell_type": "markdown",
      "metadata": {
        "id": "view-in-github",
        "colab_type": "text"
      },
      "source": [
        "<a href=\"https://colab.research.google.com/github/HumeraF2/AML-Assignment/blob/main/aml_assignment.ipynb\" target=\"_parent\"><img src=\"https://colab.research.google.com/assets/colab-badge.svg\" alt=\"Open In Colab\"/></a>"
      ]
    },
    {
      "cell_type": "code",
      "execution_count": null,
      "metadata": {
        "colab": {
          "base_uri": "https://localhost:8080/"
        },
        "id": "zqSXUvESqEGx",
        "outputId": "09773372-84f1-4d27-e074-10482231d1d9"
      },
      "outputs": [
        {
          "output_type": "stream",
          "name": "stdout",
          "text": [
            "Mounted at /content/drive\n"
          ]
        }
      ],
      "source": [
        "from google.colab import drive\n",
        "drive.mount('/content/drive')"
      ]
    },
    {
      "cell_type": "code",
      "execution_count": null,
      "metadata": {
        "id": "XpIDrgQCb-8V"
      },
      "outputs": [],
      "source": [
        "import pandas as pd\n",
        "import numpy as np"
      ]
    },
    {
      "cell_type": "code",
      "execution_count": null,
      "metadata": {
        "id": "ceDFkrFzcEGU"
      },
      "outputs": [],
      "source": [
        "df = pd.read_csv(\"/content/drive/MyDrive/Colab Notebooks/Data/credit_card_churn.csv\")"
      ]
    },
    {
      "cell_type": "code",
      "execution_count": null,
      "metadata": {
        "id": "fontb_CFcbYc",
        "colab": {
          "base_uri": "https://localhost:8080/"
        },
        "outputId": "0d0ac740-4462-4d68-ea9f-f09ac070163c"
      },
      "outputs": [
        {
          "output_type": "stream",
          "name": "stdout",
          "text": [
            "<class 'pandas.core.frame.DataFrame'>\n",
            "RangeIndex: 10127 entries, 0 to 10126\n",
            "Data columns (total 18 columns):\n",
            " #   Column                    Non-Null Count  Dtype  \n",
            "---  ------                    --------------  -----  \n",
            " 0   CLIENTNUM                 10127 non-null  int64  \n",
            " 1   Attrition_Flag            10127 non-null  object \n",
            " 2   Customer_Age              10127 non-null  int64  \n",
            " 3   Gender                    10127 non-null  object \n",
            " 4   Dependent_count           10127 non-null  int64  \n",
            " 5   Education_Level           10127 non-null  object \n",
            " 6   Marital_Status            10127 non-null  object \n",
            " 7   Income_Category           10127 non-null  object \n",
            " 8   Card_Category             10127 non-null  object \n",
            " 9   Months_on_book            10127 non-null  int64  \n",
            " 10  Total_Relationship_Count  10127 non-null  int64  \n",
            " 11  Months_Inactive_12_mon    10127 non-null  int64  \n",
            " 12  Contacts_Count_12_mon     10127 non-null  int64  \n",
            " 13  Credit_Limit              10127 non-null  float64\n",
            " 14  Total_Revolving_Bal       10127 non-null  int64  \n",
            " 15  Avg_Open_To_Buy           10127 non-null  float64\n",
            " 16  Total_Trans_Amt           10127 non-null  int64  \n",
            " 17  Total_Trans_Ct            10127 non-null  int64  \n",
            "dtypes: float64(2), int64(10), object(6)\n",
            "memory usage: 1.4+ MB\n",
            "None \n",
            "\n",
            "   CLIENTNUM     Attrition_Flag  Customer_Age Gender  Dependent_count  \\\n",
            "0  768805383  Existing Customer            45      M                3   \n",
            "1  818770008  Existing Customer            49      F                5   \n",
            "2  713982108  Existing Customer            51      M                3   \n",
            "3  769911858  Existing Customer            40      F                4   \n",
            "4  709106358  Existing Customer            40      M                3   \n",
            "\n",
            "  Education_Level Marital_Status Income_Category Card_Category  \\\n",
            "0     High School        Married     $60K - $80K          Blue   \n",
            "1        Graduate         Single  Less than $40K          Blue   \n",
            "2        Graduate        Married    $80K - $120K          Blue   \n",
            "3     High School        Unknown  Less than $40K          Blue   \n",
            "4      Uneducated        Married     $60K - $80K          Blue   \n",
            "\n",
            "   Months_on_book  Total_Relationship_Count  Months_Inactive_12_mon  \\\n",
            "0              39                         5                       1   \n",
            "1              44                         6                       1   \n",
            "2              36                         4                       1   \n",
            "3              34                         3                       4   \n",
            "4              21                         5                       1   \n",
            "\n",
            "   Contacts_Count_12_mon  Credit_Limit  Total_Revolving_Bal  Avg_Open_To_Buy  \\\n",
            "0                      3       12691.0                  777          11914.0   \n",
            "1                      2        8256.0                  864           7392.0   \n",
            "2                      0        3418.0                    0           3418.0   \n",
            "3                      1        3313.0                 2517            796.0   \n",
            "4                      0        4716.0                    0           4716.0   \n",
            "\n",
            "   Total_Trans_Amt  Total_Trans_Ct  \n",
            "0             1144              42  \n",
            "1             1291              33  \n",
            "2             1887              20  \n",
            "3             1171              20  \n",
            "4              816              28   \n",
            "\n",
            "          CLIENTNUM  Customer_Age  Dependent_count  Months_on_book  \\\n",
            "count  1.012700e+04  10127.000000     10127.000000    10127.000000   \n",
            "mean   7.391776e+08     46.325960         2.346203       35.928409   \n",
            "std    3.690378e+07      8.016814         1.298908        7.986416   \n",
            "min    7.080821e+08     26.000000         0.000000       13.000000   \n",
            "25%    7.130368e+08     41.000000         1.000000       31.000000   \n",
            "50%    7.179264e+08     46.000000         2.000000       36.000000   \n",
            "75%    7.731435e+08     52.000000         3.000000       40.000000   \n",
            "max    8.283431e+08     73.000000         5.000000       56.000000   \n",
            "\n",
            "       Total_Relationship_Count  Months_Inactive_12_mon  \\\n",
            "count              10127.000000            10127.000000   \n",
            "mean                   3.812580                2.341167   \n",
            "std                    1.554408                1.010622   \n",
            "min                    1.000000                0.000000   \n",
            "25%                    3.000000                2.000000   \n",
            "50%                    4.000000                2.000000   \n",
            "75%                    5.000000                3.000000   \n",
            "max                    6.000000                6.000000   \n",
            "\n",
            "       Contacts_Count_12_mon  Credit_Limit  Total_Revolving_Bal  \\\n",
            "count           10127.000000  10127.000000         10127.000000   \n",
            "mean                2.455317   8631.953698          1162.814061   \n",
            "std                 1.106225   9088.776650           814.987335   \n",
            "min                 0.000000   1438.300000             0.000000   \n",
            "25%                 2.000000   2555.000000           359.000000   \n",
            "50%                 2.000000   4549.000000          1276.000000   \n",
            "75%                 3.000000  11067.500000          1784.000000   \n",
            "max                 6.000000  34516.000000          2517.000000   \n",
            "\n",
            "       Avg_Open_To_Buy  Total_Trans_Amt  Total_Trans_Ct  \n",
            "count     10127.000000     10127.000000    10127.000000  \n",
            "mean       7469.139637      4404.086304       64.858695  \n",
            "std        9090.685324      3397.129254       23.472570  \n",
            "min           3.000000       510.000000       10.000000  \n",
            "25%        1324.500000      2155.500000       45.000000  \n",
            "50%        3474.000000      3899.000000       67.000000  \n",
            "75%        9859.000000      4741.000000       81.000000  \n",
            "max       34516.000000     18484.000000      139.000000   \n",
            "\n"
          ]
        }
      ],
      "source": [
        "print(df.info(),'\\n')\n",
        "print(df.head(),'\\n')\n",
        "print(df.describe(),'\\n')"
      ]
    },
    {
      "cell_type": "code",
      "execution_count": null,
      "metadata": {
        "id": "fk2b-TQoPaCO",
        "colab": {
          "base_uri": "https://localhost:8080/",
          "height": 426
        },
        "outputId": "e0a17380-8960-4243-a1f3-dd8dc9cc63c8"
      },
      "outputs": [
        {
          "output_type": "execute_result",
          "data": {
            "text/plain": [
              "                            count          mean           std          min  \\\n",
              "CLIENTNUM                 10127.0  7.391776e+08  3.690378e+07  708082083.0   \n",
              "Customer_Age              10127.0  4.632596e+01  8.016814e+00         26.0   \n",
              "Dependent_count           10127.0  2.346203e+00  1.298908e+00          0.0   \n",
              "Months_on_book            10127.0  3.592841e+01  7.986416e+00         13.0   \n",
              "Total_Relationship_Count  10127.0  3.812580e+00  1.554408e+00          1.0   \n",
              "Months_Inactive_12_mon    10127.0  2.341167e+00  1.010622e+00          0.0   \n",
              "Contacts_Count_12_mon     10127.0  2.455317e+00  1.106225e+00          0.0   \n",
              "Credit_Limit              10127.0  8.631954e+03  9.088777e+03       1438.3   \n",
              "Total_Revolving_Bal       10127.0  1.162814e+03  8.149873e+02          0.0   \n",
              "Avg_Open_To_Buy           10127.0  7.469140e+03  9.090685e+03          3.0   \n",
              "Total_Trans_Amt           10127.0  4.404086e+03  3.397129e+03        510.0   \n",
              "Total_Trans_Ct            10127.0  6.485869e+01  2.347257e+01         10.0   \n",
              "\n",
              "                                  25%          50%          75%          max  \n",
              "CLIENTNUM                 713036770.5  717926358.0  773143533.0  828343083.0  \n",
              "Customer_Age                     41.0         46.0         52.0         73.0  \n",
              "Dependent_count                   1.0          2.0          3.0          5.0  \n",
              "Months_on_book                   31.0         36.0         40.0         56.0  \n",
              "Total_Relationship_Count          3.0          4.0          5.0          6.0  \n",
              "Months_Inactive_12_mon            2.0          2.0          3.0          6.0  \n",
              "Contacts_Count_12_mon             2.0          2.0          3.0          6.0  \n",
              "Credit_Limit                   2555.0       4549.0      11067.5      34516.0  \n",
              "Total_Revolving_Bal             359.0       1276.0       1784.0       2517.0  \n",
              "Avg_Open_To_Buy                1324.5       3474.0       9859.0      34516.0  \n",
              "Total_Trans_Amt                2155.5       3899.0       4741.0      18484.0  \n",
              "Total_Trans_Ct                   45.0         67.0         81.0        139.0  "
            ],
            "text/html": [
              "\n",
              "  <div id=\"df-7663f3b5-c619-4556-8624-b00fed0894e1\">\n",
              "    <div class=\"colab-df-container\">\n",
              "      <div>\n",
              "<style scoped>\n",
              "    .dataframe tbody tr th:only-of-type {\n",
              "        vertical-align: middle;\n",
              "    }\n",
              "\n",
              "    .dataframe tbody tr th {\n",
              "        vertical-align: top;\n",
              "    }\n",
              "\n",
              "    .dataframe thead th {\n",
              "        text-align: right;\n",
              "    }\n",
              "</style>\n",
              "<table border=\"1\" class=\"dataframe\">\n",
              "  <thead>\n",
              "    <tr style=\"text-align: right;\">\n",
              "      <th></th>\n",
              "      <th>count</th>\n",
              "      <th>mean</th>\n",
              "      <th>std</th>\n",
              "      <th>min</th>\n",
              "      <th>25%</th>\n",
              "      <th>50%</th>\n",
              "      <th>75%</th>\n",
              "      <th>max</th>\n",
              "    </tr>\n",
              "  </thead>\n",
              "  <tbody>\n",
              "    <tr>\n",
              "      <th>CLIENTNUM</th>\n",
              "      <td>10127.0</td>\n",
              "      <td>7.391776e+08</td>\n",
              "      <td>3.690378e+07</td>\n",
              "      <td>708082083.0</td>\n",
              "      <td>713036770.5</td>\n",
              "      <td>717926358.0</td>\n",
              "      <td>773143533.0</td>\n",
              "      <td>828343083.0</td>\n",
              "    </tr>\n",
              "    <tr>\n",
              "      <th>Customer_Age</th>\n",
              "      <td>10127.0</td>\n",
              "      <td>4.632596e+01</td>\n",
              "      <td>8.016814e+00</td>\n",
              "      <td>26.0</td>\n",
              "      <td>41.0</td>\n",
              "      <td>46.0</td>\n",
              "      <td>52.0</td>\n",
              "      <td>73.0</td>\n",
              "    </tr>\n",
              "    <tr>\n",
              "      <th>Dependent_count</th>\n",
              "      <td>10127.0</td>\n",
              "      <td>2.346203e+00</td>\n",
              "      <td>1.298908e+00</td>\n",
              "      <td>0.0</td>\n",
              "      <td>1.0</td>\n",
              "      <td>2.0</td>\n",
              "      <td>3.0</td>\n",
              "      <td>5.0</td>\n",
              "    </tr>\n",
              "    <tr>\n",
              "      <th>Months_on_book</th>\n",
              "      <td>10127.0</td>\n",
              "      <td>3.592841e+01</td>\n",
              "      <td>7.986416e+00</td>\n",
              "      <td>13.0</td>\n",
              "      <td>31.0</td>\n",
              "      <td>36.0</td>\n",
              "      <td>40.0</td>\n",
              "      <td>56.0</td>\n",
              "    </tr>\n",
              "    <tr>\n",
              "      <th>Total_Relationship_Count</th>\n",
              "      <td>10127.0</td>\n",
              "      <td>3.812580e+00</td>\n",
              "      <td>1.554408e+00</td>\n",
              "      <td>1.0</td>\n",
              "      <td>3.0</td>\n",
              "      <td>4.0</td>\n",
              "      <td>5.0</td>\n",
              "      <td>6.0</td>\n",
              "    </tr>\n",
              "    <tr>\n",
              "      <th>Months_Inactive_12_mon</th>\n",
              "      <td>10127.0</td>\n",
              "      <td>2.341167e+00</td>\n",
              "      <td>1.010622e+00</td>\n",
              "      <td>0.0</td>\n",
              "      <td>2.0</td>\n",
              "      <td>2.0</td>\n",
              "      <td>3.0</td>\n",
              "      <td>6.0</td>\n",
              "    </tr>\n",
              "    <tr>\n",
              "      <th>Contacts_Count_12_mon</th>\n",
              "      <td>10127.0</td>\n",
              "      <td>2.455317e+00</td>\n",
              "      <td>1.106225e+00</td>\n",
              "      <td>0.0</td>\n",
              "      <td>2.0</td>\n",
              "      <td>2.0</td>\n",
              "      <td>3.0</td>\n",
              "      <td>6.0</td>\n",
              "    </tr>\n",
              "    <tr>\n",
              "      <th>Credit_Limit</th>\n",
              "      <td>10127.0</td>\n",
              "      <td>8.631954e+03</td>\n",
              "      <td>9.088777e+03</td>\n",
              "      <td>1438.3</td>\n",
              "      <td>2555.0</td>\n",
              "      <td>4549.0</td>\n",
              "      <td>11067.5</td>\n",
              "      <td>34516.0</td>\n",
              "    </tr>\n",
              "    <tr>\n",
              "      <th>Total_Revolving_Bal</th>\n",
              "      <td>10127.0</td>\n",
              "      <td>1.162814e+03</td>\n",
              "      <td>8.149873e+02</td>\n",
              "      <td>0.0</td>\n",
              "      <td>359.0</td>\n",
              "      <td>1276.0</td>\n",
              "      <td>1784.0</td>\n",
              "      <td>2517.0</td>\n",
              "    </tr>\n",
              "    <tr>\n",
              "      <th>Avg_Open_To_Buy</th>\n",
              "      <td>10127.0</td>\n",
              "      <td>7.469140e+03</td>\n",
              "      <td>9.090685e+03</td>\n",
              "      <td>3.0</td>\n",
              "      <td>1324.5</td>\n",
              "      <td>3474.0</td>\n",
              "      <td>9859.0</td>\n",
              "      <td>34516.0</td>\n",
              "    </tr>\n",
              "    <tr>\n",
              "      <th>Total_Trans_Amt</th>\n",
              "      <td>10127.0</td>\n",
              "      <td>4.404086e+03</td>\n",
              "      <td>3.397129e+03</td>\n",
              "      <td>510.0</td>\n",
              "      <td>2155.5</td>\n",
              "      <td>3899.0</td>\n",
              "      <td>4741.0</td>\n",
              "      <td>18484.0</td>\n",
              "    </tr>\n",
              "    <tr>\n",
              "      <th>Total_Trans_Ct</th>\n",
              "      <td>10127.0</td>\n",
              "      <td>6.485869e+01</td>\n",
              "      <td>2.347257e+01</td>\n",
              "      <td>10.0</td>\n",
              "      <td>45.0</td>\n",
              "      <td>67.0</td>\n",
              "      <td>81.0</td>\n",
              "      <td>139.0</td>\n",
              "    </tr>\n",
              "  </tbody>\n",
              "</table>\n",
              "</div>\n",
              "      <button class=\"colab-df-convert\" onclick=\"convertToInteractive('df-7663f3b5-c619-4556-8624-b00fed0894e1')\"\n",
              "              title=\"Convert this dataframe to an interactive table.\"\n",
              "              style=\"display:none;\">\n",
              "        \n",
              "  <svg xmlns=\"http://www.w3.org/2000/svg\" height=\"24px\"viewBox=\"0 0 24 24\"\n",
              "       width=\"24px\">\n",
              "    <path d=\"M0 0h24v24H0V0z\" fill=\"none\"/>\n",
              "    <path d=\"M18.56 5.44l.94 2.06.94-2.06 2.06-.94-2.06-.94-.94-2.06-.94 2.06-2.06.94zm-11 1L8.5 8.5l.94-2.06 2.06-.94-2.06-.94L8.5 2.5l-.94 2.06-2.06.94zm10 10l.94 2.06.94-2.06 2.06-.94-2.06-.94-.94-2.06-.94 2.06-2.06.94z\"/><path d=\"M17.41 7.96l-1.37-1.37c-.4-.4-.92-.59-1.43-.59-.52 0-1.04.2-1.43.59L10.3 9.45l-7.72 7.72c-.78.78-.78 2.05 0 2.83L4 21.41c.39.39.9.59 1.41.59.51 0 1.02-.2 1.41-.59l7.78-7.78 2.81-2.81c.8-.78.8-2.07 0-2.86zM5.41 20L4 18.59l7.72-7.72 1.47 1.35L5.41 20z\"/>\n",
              "  </svg>\n",
              "      </button>\n",
              "      \n",
              "  <style>\n",
              "    .colab-df-container {\n",
              "      display:flex;\n",
              "      flex-wrap:wrap;\n",
              "      gap: 12px;\n",
              "    }\n",
              "\n",
              "    .colab-df-convert {\n",
              "      background-color: #E8F0FE;\n",
              "      border: none;\n",
              "      border-radius: 50%;\n",
              "      cursor: pointer;\n",
              "      display: none;\n",
              "      fill: #1967D2;\n",
              "      height: 32px;\n",
              "      padding: 0 0 0 0;\n",
              "      width: 32px;\n",
              "    }\n",
              "\n",
              "    .colab-df-convert:hover {\n",
              "      background-color: #E2EBFA;\n",
              "      box-shadow: 0px 1px 2px rgba(60, 64, 67, 0.3), 0px 1px 3px 1px rgba(60, 64, 67, 0.15);\n",
              "      fill: #174EA6;\n",
              "    }\n",
              "\n",
              "    [theme=dark] .colab-df-convert {\n",
              "      background-color: #3B4455;\n",
              "      fill: #D2E3FC;\n",
              "    }\n",
              "\n",
              "    [theme=dark] .colab-df-convert:hover {\n",
              "      background-color: #434B5C;\n",
              "      box-shadow: 0px 1px 3px 1px rgba(0, 0, 0, 0.15);\n",
              "      filter: drop-shadow(0px 1px 2px rgba(0, 0, 0, 0.3));\n",
              "      fill: #FFFFFF;\n",
              "    }\n",
              "  </style>\n",
              "\n",
              "      <script>\n",
              "        const buttonEl =\n",
              "          document.querySelector('#df-7663f3b5-c619-4556-8624-b00fed0894e1 button.colab-df-convert');\n",
              "        buttonEl.style.display =\n",
              "          google.colab.kernel.accessAllowed ? 'block' : 'none';\n",
              "\n",
              "        async function convertToInteractive(key) {\n",
              "          const element = document.querySelector('#df-7663f3b5-c619-4556-8624-b00fed0894e1');\n",
              "          const dataTable =\n",
              "            await google.colab.kernel.invokeFunction('convertToInteractive',\n",
              "                                                     [key], {});\n",
              "          if (!dataTable) return;\n",
              "\n",
              "          const docLinkHtml = 'Like what you see? Visit the ' +\n",
              "            '<a target=\"_blank\" href=https://colab.research.google.com/notebooks/data_table.ipynb>data table notebook</a>'\n",
              "            + ' to learn more about interactive tables.';\n",
              "          element.innerHTML = '';\n",
              "          dataTable['output_type'] = 'display_data';\n",
              "          await google.colab.output.renderOutput(dataTable, element);\n",
              "          const docLink = document.createElement('div');\n",
              "          docLink.innerHTML = docLinkHtml;\n",
              "          element.appendChild(docLink);\n",
              "        }\n",
              "      </script>\n",
              "    </div>\n",
              "  </div>\n",
              "  "
            ]
          },
          "metadata": {},
          "execution_count": 11
        }
      ],
      "source": [
        "df.describe().T"
      ]
    },
    {
      "cell_type": "code",
      "execution_count": null,
      "metadata": {
        "id": "z5Uz2NuM-OYG"
      },
      "outputs": [],
      "source": [
        "#Check for missing values\n",
        "df.isnull().sum()"
      ]
    },
    {
      "cell_type": "code",
      "execution_count": null,
      "metadata": {
        "id": "gwxh5tF3pJLU"
      },
      "outputs": [],
      "source": [
        "#Calculate summary statistics for categorical data\n",
        "for col in df.select_dtypes(include='object').columns:\n",
        "    print(f\"{col}:\\n{df[col].value_counts()}\\n\")"
      ]
    },
    {
      "cell_type": "code",
      "execution_count": null,
      "metadata": {
        "id": "eY_Va35Mph7g"
      },
      "outputs": [],
      "source": [
        "#Drop unnecessary features\n",
        "df.drop(['CLIENTNUM','Marital_Status', 'Education_Level'], axis=1, inplace=True)\n",
        "df.info()"
      ]
    },
    {
      "cell_type": "code",
      "source": [
        "#Display Multiple Boxplots to identify any outliers\n",
        "import matplotlib.pyplot as plt\n",
        "\n",
        "columns = ['Customer_Age', 'Months_on_book','Total_Revolving_Bal','Credit_Limit','Avg_Open_To_Buy','Total_Trans_Amt', 'Total_Trans_Ct']\n",
        "for col in columns:\n",
        "  plt.boxplot(df[col],vert=False)\n",
        "  plt.title(col)\n",
        "  plt.ylabel(col)\n",
        "  plt.rcParams[\"figure.figsize\"] = (3,2)\n",
        "  plt.show()\n",
        " "
      ],
      "metadata": {
        "id": "VTh9L7nnGvBi",
        "colab": {
          "base_uri": "https://localhost:8080/",
          "height": 1000
        },
        "outputId": "cdc0af53-719a-4d54-db45-1e445341464f"
      },
      "execution_count": null,
      "outputs": [
        {
          "output_type": "display_data",
          "data": {
            "text/plain": [
              "<Figure size 300x200 with 1 Axes>"
            ],
            "image/png": "[encoded data removed]"
          },
          "metadata": {}
        },
        {
          "output_type": "display_data",
          "data": {
            "text/plain": [
              "<Figure size 300x200 with 1 Axes>"
            ],
            "image/png": "[encoded data removed]"
          },
          "metadata": {}
        },
        {
          "output_type": "display_data",
          "data": {
            "text/plain": [
              "<Figure size 300x200 with 1 Axes>"
            ],
            "image/png": "[encoded data removed]"
          },
          "metadata": {}
        },
        {
          "output_type": "display_data",
          "data": {
            "text/plain": [
              "<Figure size 300x200 with 1 Axes>"
            ],
            "image/png": "[encoded data removed]"
          },
          "metadata": {}
        },
        {
          "output_type": "display_data",
          "data": {
            "text/plain": [
              "<Figure size 300x200 with 1 Axes>"
            ],
            "image/png": "[encoded data removed]"
          },
          "metadata": {}
        },
        {
          "output_type": "display_data",
          "data": {
            "text/plain": [
              "<Figure size 300x200 with 1 Axes>"
            ],
            "image/png": "[encoded data removed]"
          },
          "metadata": {}
        },
        {
          "output_type": "display_data",
          "data": {
            "text/plain": [
              "<Figure size 300x200 with 1 Axes>"
            ],
            "image/png": "[encoded data removed]"
          },
          "metadata": {}
        }
      ]
    },
    {
      "cell_type": "code",
      "execution_count": null,
      "metadata": {
        "id": "awSk_vXWc2ti"
      },
      "outputs": [],
      "source": [
        "#** Removing Outliers: To remove outliers, use a method like Z-score or IQR to detect and remove the extreme values. **\n",
        "from scipy import stats\n",
        "import scipy.stats as stats\n",
        "\n",
        "# Calculate Z-scores and retain rows with Z-score greater than -3 or less than +3\n",
        "\n",
        "z_scores = stats.zscore(df['Customer_Age'])\n",
        "plt.boxplot(z_scores,vert=False)\n",
        "df = df[(z_scores >= -3) & (z_scores <= 3)]\n",
        "plt.title('Box plot of Age')\n",
        "plt.ylabel('Customer_Age')\n",
        "plt.rcParams[\"figure.figsize\"] = (3,2)\n",
        "plt.show()\n",
        "\n",
        "z_scores = stats.zscore(df['Months_on_book'])\n",
        "plt.boxplot(z_scores,vert=False)\n",
        "df = df[(z_scores >= -3) & (z_scores <= 3)]\n",
        "plt.title('Box plot of Months_on_book')\n",
        "plt.ylabel('Months on Book')\n",
        "plt.show()\n",
        "\n",
        "z_scores = stats.zscore(df['Total_Trans_Ct'])\n",
        "plt.boxplot(z_scores,vert=False)\n",
        "df = df[(z_scores >= -3) & (z_scores <= 3)]\n",
        "plt.title('Box plot of Total Transaction Ct')\n",
        "plt.ylabel('Total Transaction Ct')\n",
        "plt.show()\n",
        "\n",
        "z_scores = stats.zscore(df['Credit_Limit'])\n",
        "plt.boxplot(z_scores,vert=False)\n",
        "df = df[(z_scores >= -3) & (z_scores <= 3)]\n",
        "plt.title('Box plot of Credit Limit')\n",
        "plt.ylabel('Credit Limit')\n",
        "plt.show()\n",
        "\n",
        "z_scores = stats.zscore(df['Avg_Open_To_Buy'])\n",
        "plt.boxplot(z_scores,vert=False)\n",
        "df = df[(z_scores >= -3) & (z_scores <= 3)]\n",
        "plt.title('Box plot of Avg Open To Buy')\n",
        "plt.ylabel('Avg Open To Buy')\n",
        "plt.show()\n",
        "\n",
        "z_scores = stats.zscore(df['Total_Trans_Amt'])\n",
        "plt.boxplot(z_scores,vert=False)\n",
        "df = df[(z_scores >= -3) & (z_scores <= 3)]\n",
        "plt.title('Box plot of Total Transanction Amt')\n",
        "plt.ylabel('Total Transanction Amt')\n",
        "plt.show()\n"
      ]
    },
    {
      "cell_type": "code",
      "source": [
        "#Display the box plot again\n",
        "\n",
        "columns = ['Customer_Age', 'Months_on_book','Credit_Limit','Avg_Open_To_Buy','Total_Trans_Amt', 'Total_Trans_Ct']\n",
        "for col in columns:\n",
        "  plt.boxplot(df[col],vert=False)\n",
        "  plt.title(col)\n",
        "  plt.ylabel(col)\n",
        "  plt.rcParams[\"figure.figsize\"] = (3,2)\n",
        "  plt.show()\n"
      ],
      "metadata": {
        "id": "fmMZRN84Xul1"
      },
      "execution_count": null,
      "outputs": []
    },
    {
      "cell_type": "code",
      "execution_count": null,
      "metadata": {
        "id": "iKcXGsVLkSoM"
      },
      "outputs": [],
      "source": [
        "#Convert the categorical variables to dummy variables\n",
        "df = pd.get_dummies(df, drop_first=False)\n",
        "df.info()"
      ]
    },
    {
      "cell_type": "code",
      "execution_count": null,
      "metadata": {
        "id": "EttDE8CdudpJ"
      },
      "outputs": [],
      "source": [
        "df.drop(['Attrition_Flag_Attrited Customer','Income_Category_Unknown', 'Card_Category_Silver'], axis=1, inplace=True)"
      ]
    },
    {
      "cell_type": "code",
      "execution_count": null,
      "metadata": {
        "id": "gTLNdeHbk9Cn"
      },
      "outputs": [],
      "source": [
        "#Standardisation\n",
        "from sklearn.preprocessing import StandardScaler\n",
        "  \n",
        "# Separate the dummy variables from the numerical variables\n",
        "dummy_cols = df.select_dtypes(include='uint8').columns\n",
        "num_cols = list(set(df.select_dtypes(include=['float64', 'int64']).columns) - set(dummy_cols))\n",
        "\n",
        "# Standardize the numerical variables\n",
        "scaler = StandardScaler()\n",
        "df[num_cols] = scaler.fit_transform(df[num_cols])\n",
        "\n",
        "# Combine the standardized numerical variables with the dummy variables\n",
        "df_std = pd.concat([df[num_cols], df[dummy_cols]], axis=1)\n",
        "\n",
        "print(df_std.head(5),'\\n')\n",
        "print(df_std.describe(),'\\n')"
      ]
    },
    {
      "cell_type": "code",
      "execution_count": null,
      "metadata": {
        "id": "8U6Y3yGnkehb"
      },
      "outputs": [],
      "source": [
        "print(df.columns)"
      ]
    },
    {
      "cell_type": "code",
      "execution_count": null,
      "metadata": {
        "id": "JJC_KHjs9c-j"
      },
      "outputs": [],
      "source": [
        "#Split the data into training and test sets (70:30)\n",
        "from sklearn.model_selection import train_test_split\n",
        "X_train, X_test, y_train, y_test = train_test_split(df_std.drop('Attrition_Flag_Existing Customer', axis=1), df['Attrition_Flag_Existing Customer'], test_size=0.3, random_state=50)"
      ]
    },
    {
      "cell_type": "code",
      "execution_count": null,
      "metadata": {
        "id": "mbf94XotmOEp"
      },
      "outputs": [],
      "source": [
        "#Import/install the necessary packages\n",
        "!pip install scikeras\n",
        "import scikeras as sk\n",
        "from keras.losses import binary_crossentropy\n",
        "from keras.models import Sequential\n",
        "from keras.layers import Dense\n",
        "from keras.callbacks import EarlyStopping\n",
        "from scikeras.wrappers import KerasRegressor\n",
        "from sklearn.model_selection import GridSearchCV"
      ]
    },
    {
      "cell_type": "code",
      "execution_count": null,
      "metadata": {
        "id": "ESWFF9dTmall"
      },
      "outputs": [],
      "source": [
        "def create_model():\n",
        "    model = Sequential()\n",
        "    model.add(Dense (21, input_dim=X_train.shape[1], activation='relu'))\n",
        "    model.add(Dense(15, activation='relu'))\n",
        "    model.add(Dense(1, activation='sigmoid'))\n",
        "    model.compile(loss='binary_crossentropy', optimizer='adam')\n",
        "    return model   \n",
        "\n",
        "# create the model\n",
        "model = KerasRegressor(build_fn=create_model, verbose=0, )\n",
        "print(model)"
      ]
    },
    {
      "cell_type": "code",
      "execution_count": null,
      "metadata": {
        "id": "7nF4lVwamo7v"
      },
      "outputs": [],
      "source": [
        "# define the grid search parameters\n",
        "param_grid = {'batch_size': [32, 64],\n",
        "              'epochs': [50,100],\n",
        "              'optimizer': ['adam', 'sgd']}\n",
        "\n",
        "\n",
        "# perform grid search to find the best hyperparameters\n",
        "grid = GridSearchCV(estimator=model, param_grid=param_grid, cv=3, n_jobs=-1)\n",
        "grid_result = grid.fit(X_train, y_train)\n",
        " \n",
        "# print the best parameters\n",
        "print(f\"Best Parameters: {grid_result.best_params_}\")"
      ]
    },
    {
      "cell_type": "code",
      "execution_count": null,
      "metadata": {
        "id": "xtwj7z6FmpxL"
      },
      "outputs": [],
      "source": [
        "#Fit the model with the best hyperparameters and make predictions using the test set\n",
        "best_model = grid.best_estimator_\n",
        "best_model.fit(X_train, y_train, epochs=grid_result.best_params_['epochs'], batch_size=grid_result.best_params_['batch_size'], verbose=0, callbacks=[EarlyStopping(patience=10, restore_best_weights=True)])\n",
        "\n",
        "# Y predict on X test set\n",
        "y_pred = best_model.predict(X_test)"
      ]
    },
    {
      "cell_type": "code",
      "execution_count": null,
      "metadata": {
        "id": "IHgaXArNm5OS"
      },
      "outputs": [],
      "source": [
        "#Display Feature Importance\n",
        "\n",
        "importance = best_model.predict(X_train, verbose=0)\n",
        "importance = np.squeeze(importance)\n",
        "feature_names = X_train.columns\n",
        "feature_importance = dict(zip(feature_names, importance))\n",
        "sorted_importance = sorted(feature_importance.items(), key=lambda kv: abs(kv[1]), reverse=True)\n",
        "\n",
        "for feature, importance in sorted_importance:\n",
        "    print(f\"{feature}: {abs(importance)}\")\n",
        "\n",
        "importance_values = [abs(kv[1]) for kv in sorted_importance]\n",
        "#print(importance_values)\n",
        "feature_names = [kv[0] for kv in sorted_importance]\n",
        "#print(feature_names)\n",
        "plt.rcParams[\"figure.figsize\"] = (10,5)\n",
        "plt.barh(range(len(importance_values)), importance_values, align='center')\n",
        "plt.yticks(range(len(feature_names)), feature_names)\n",
        "plt.xlabel(\"Importance\")\n",
        "plt.ylabel(\"Feature\")\n",
        "plt.title(\"Feature Importance\")\n",
        "plt.show()"
      ]
    },
    {
      "cell_type": "code",
      "execution_count": null,
      "metadata": {
        "id": "iMG76Sn_12Iq"
      },
      "outputs": [],
      "source": [
        "#predict the churn values\n",
        "print(y_pred)\n",
        "# unscaling the y_pred values \n",
        "y_pred_lis = []\n",
        "for i in y_pred:\n",
        "    if i>0.5:\n",
        "        y_pred_lis.append(1)\n",
        "    else:\n",
        "        y_pred_lis.append(0)\n",
        "print(y_pred_lis)"
      ]
    },
    {
      "cell_type": "code",
      "execution_count": null,
      "metadata": {
        "id": "MOXKfMK42z7G"
      },
      "outputs": [],
      "source": [
        "#make dataframe for comparing the orignal and predict values\n",
        "data = {'orignal_churn':y_test, 'predicted_churn':y_pred_lis}\n",
        "df_check = pd.DataFrame(data)\n",
        "df_check.head(10)"
      ]
    },
    {
      "cell_type": "code",
      "execution_count": null,
      "metadata": {
        "id": "Nz2PTKVS3r0q"
      },
      "outputs": [],
      "source": [
        "# checking for performance metrices, importing classification_report and confusion metrics\n",
        "import seaborn as sb\n",
        "import tensorflow as tf\n",
        "from sklearn.metrics import confusion_matrix, classification_report\n",
        "\n",
        "#print classification_report\n",
        "print(classification_report(y_test, y_pred_lis))\n",
        "\n",
        "# ploting the confusion metrix plot\n",
        "conf_mat = tf.math.confusion_matrix(labels=y_test,predictions=y_pred_lis)\n",
        "plt.figure(figsize = (10,5))\n",
        "sb.heatmap(conf_mat, annot=True,fmt='d',)\n",
        "plt.xlabel('Predicted_number')\n",
        "plt.ylabel('True_number')"
      ]
    },
    {
      "cell_type": "code",
      "execution_count": null,
      "metadata": {
        "id": "ru3AtIQDaTtT"
      },
      "outputs": [],
      "source": [
        "#Roc and auc curves\n",
        "from sklearn import metrics\n",
        "auc = metrics.roc_auc_score(y_test, y_pred)\n",
        "false_positive_rate, true_positive_rate, thresolds = metrics.roc_curve(y_test, y_pred)\n",
        "\n",
        "plt.figure(figsize=(6, 4), dpi=100)\n",
        "plt.axis('scaled')\n",
        "plt.xlim([0, 1])\n",
        "plt.ylim([0, 1])\n",
        "plt.title(\"AUC & ROC Curve\")\n",
        "plt.plot(false_positive_rate, true_positive_rate, 'g')\n",
        "plt.fill_between(false_positive_rate, true_positive_rate, facecolor='lightgreen', alpha=0.7)\n",
        "plt.text(0.95, 0.05, 'AUC = %0.4f' % auc, ha='right', fontsize=12, weight='bold', color='blue')\n",
        "plt.xlabel(\"False Positive Rate\")\n",
        "plt.ylabel(\"True Positive Rate\")\n",
        "plt.show()"
      ]
    }
  ],
  "metadata": {
    "colab": {
      "provenance": [],
      "authorship_tag": "ABX9TyPRoACrTruNX+Hsy00KPUZ3",
      "include_colab_link": true
    },
    "kernelspec": {
      "display_name": "Python 3",
      "name": "python3"
    },
    "language_info": {
      "name": "python"
    }
  },
  "nbformat": 4,
  "nbformat_minor": 0
}